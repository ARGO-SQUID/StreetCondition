{
 "cells": [
  {
   "cell_type": "code",
   "execution_count": 2,
   "metadata": {
    "collapsed": false
   },
   "outputs": [
    {
     "name": "stdout",
     "output_type": "stream",
     "text": [
      "Populating the interactive namespace from numpy and matplotlib\n"
     ]
    }
   ],
   "source": [
    "import pandas as pd\n",
    "import numpy as np\n",
    "import geopandas as gpd\n",
    "from pylab import plt\n",
    "% pylab inline"
   ]
  },
  {
   "cell_type": "code",
   "execution_count": 2,
   "metadata": {
    "collapsed": true
   },
   "outputs": [],
   "source": [
    "#Class to find census tract from the given input\n",
    "from ClassGeo import LatlonPointer"
   ]
  },
  {
   "cell_type": "code",
   "execution_count": 585,
   "metadata": {
    "collapsed": false
   },
   "outputs": [],
   "source": [
    "m=pd.read_csv(\"Final/Final_Street.csv\")"
   ]
  },
  {
   "cell_type": "code",
   "execution_count": 3,
   "metadata": {
    "collapsed": false
   },
   "outputs": [],
   "source": [
    "# Census file used.\n",
    "census = pd.read_csv('Final/censusold.csv')"
   ]
  },
  {
   "cell_type": "code",
   "execution_count": 5,
   "metadata": {
    "collapsed": true
   },
   "outputs": [],
   "source": [
    "# Correcting shapefile formats\n",
    "sn=  gpd.GeoSeries(census['geometry'])\n",
    "sn.crs = {'init': 'epsg:2263', 'no_defs': True}\n",
    "sn=sn.to_crs(epsg=4326)\n",
    "census['geometry']= sn"
   ]
  },
  {
   "cell_type": "code",
   "execution_count": 13,
   "metadata": {
    "collapsed": false
   },
   "outputs": [],
   "source": [
    "#function returns census tract, when df with latitude and longitude information is given as input.\n",
    "def ctlocate(x):\n",
    "    k=LatlonPointer()\n",
    "    k.lat,k.lon= x.latitude,x.longitude\n",
    "    k.shapefile = census\n",
    "    return k.finder(\"BoroCT2010\")"
   ]
  },
  {
   "cell_type": "code",
   "execution_count": 15,
   "metadata": {
    "collapsed": false
   },
   "outputs": [],
   "source": [
    "ct=m.apply(ctlocate,1)"
   ]
  },
  {
   "cell_type": "code",
   "execution_count": null,
   "metadata": {
    "collapsed": false
   },
   "outputs": [],
   "source": [
    "#BoroCT2010 has all the census tracts\n",
    "m[\"BoroCT2010\"]=ct"
   ]
  },
  {
   "cell_type": "code",
   "execution_count": 1,
   "metadata": {
    "collapsed": false
   },
   "outputs": [],
   "source": [
    "m.to_csv(\"Final/master3.csv\")"
   ]
  },
  {
   "cell_type": "code",
   "execution_count": 4,
   "metadata": {
    "collapsed": false
   },
   "outputs": [
    {
     "name": "stderr",
     "output_type": "stream",
     "text": [
      "/Users/nikhilkishore/anaconda/lib/python2.7/site-packages/IPython/core/interactiveshell.py:2723: DtypeWarning: Columns (6,15,18,21,23,28,33) have mixed types. Specify dtype option on import or set low_memory=False.\n",
      "  interactivity=interactivity, compiler=compiler, result=result)\n"
     ]
    }
   ],
   "source": [
    "f1=pd.read_csv(\"Final/master3.csv\")"
   ]
  },
  {
   "cell_type": "code",
   "execution_count": 5,
   "metadata": {
    "collapsed": false
   },
   "outputs": [],
   "source": [
    "f1=f1.drop(['Unnamed: 0'],1)"
   ]
  },
  {
   "cell_type": "code",
   "execution_count": 6,
   "metadata": {
    "collapsed": false
   },
   "outputs": [
    {
     "data": {
      "text/html": [
       "<div>\n",
       "<table border=\"1\" class=\"dataframe\">\n",
       "  <thead>\n",
       "    <tr style=\"text-align: right;\">\n",
       "      <th></th>\n",
       "      <th>BoroCT2010</th>\n",
       "      <th>address_type</th>\n",
       "      <th>agency</th>\n",
       "      <th>agency_name</th>\n",
       "      <th>borough</th>\n",
       "      <th>bridge_highway_direction</th>\n",
       "      <th>city</th>\n",
       "      <th>closed_date</th>\n",
       "      <th>community_board</th>\n",
       "      <th>complaint_type</th>\n",
       "      <th>...</th>\n",
       "      <th>school_phone_number</th>\n",
       "      <th>school_region</th>\n",
       "      <th>school_state</th>\n",
       "      <th>school_zip</th>\n",
       "      <th>status</th>\n",
       "      <th>street_name</th>\n",
       "      <th>unique_key</th>\n",
       "      <th>derived_boroughs</th>\n",
       "      <th>located</th>\n",
       "      <th>BoroCT2010_1</th>\n",
       "    </tr>\n",
       "  </thead>\n",
       "  <tbody>\n",
       "  </tbody>\n",
       "</table>\n",
       "<p>0 rows × 44 columns</p>\n",
       "</div>"
      ],
      "text/plain": [
       "Empty DataFrame\n",
       "Columns: [BoroCT2010, address_type, agency, agency_name, borough, bridge_highway_direction, city, closed_date, community_board, complaint_type, created_date, cross_street_1, cross_street_2, descriptor, due_date, facility_type, incident_address, incident_zip, intersection_street_1, intersection_street_2, landmark, latitude, location_type, longitude, park_borough, park_facility_name, resolution_action_updated_date, resolution_description, school_address, school_city, school_code, school_name, school_not_found, school_number, school_phone_number, school_region, school_state, school_zip, status, street_name, unique_key, derived_boroughs, located, BoroCT2010_1]\n",
       "Index: []\n",
       "\n",
       "[0 rows x 44 columns]"
      ]
     },
     "execution_count": 6,
     "metadata": {},
     "output_type": "execute_result"
    }
   ],
   "source": [
    "f1[pd.isnull(f1.BoroCT2010)]"
   ]
  },
  {
   "cell_type": "code",
   "execution_count": 7,
   "metadata": {
    "collapsed": false
   },
   "outputs": [
    {
     "data": {
      "text/plain": [
       "(679847, 44)"
      ]
     },
     "execution_count": 7,
     "metadata": {},
     "output_type": "execute_result"
    }
   ],
   "source": [
    "f1.shape"
   ]
  },
  {
   "cell_type": "code",
   "execution_count": 8,
   "metadata": {
    "collapsed": false
   },
   "outputs": [
    {
     "data": {
      "text/plain": [
       "679847"
      ]
     },
     "execution_count": 8,
     "metadata": {},
     "output_type": "execute_result"
    }
   ],
   "source": [
    "len(set(f1.unique_key))"
   ]
  },
  {
   "cell_type": "code",
   "execution_count": 10,
   "metadata": {
    "collapsed": false
   },
   "outputs": [
    {
     "data": {
      "text/plain": [
       "(679847, 44)"
      ]
     },
     "execution_count": 10,
     "metadata": {},
     "output_type": "execute_result"
    }
   ],
   "source": [
    "f2.shape"
   ]
  },
  {
   "cell_type": "code",
   "execution_count": 11,
   "metadata": {
    "collapsed": false
   },
   "outputs": [],
   "source": [
    "import datetime"
   ]
  },
  {
   "cell_type": "code",
   "execution_count": 12,
   "metadata": {
    "collapsed": true
   },
   "outputs": [],
   "source": [
    "f1['created_date']=pd.to_datetime(f1['created_date'])"
   ]
  },
  {
   "cell_type": "code",
   "execution_count": 13,
   "metadata": {
    "collapsed": false
   },
   "outputs": [],
   "source": [
    "year=f1['created_date'].apply(lambda x:x.year)"
   ]
  },
  {
   "cell_type": "code",
   "execution_count": 14,
   "metadata": {
    "collapsed": false
   },
   "outputs": [],
   "source": [
    "f1['year']=year"
   ]
  },
  {
   "cell_type": "code",
   "execution_count": 19,
   "metadata": {
    "collapsed": false
   },
   "outputs": [],
   "source": [
    "f1.columns=[u'BoroCT2010_1', u'address_type', u'agency', u'agency_name', u'borough',\n",
    "       u'bridge_highway_direction', u'city', u'closed_date',\n",
    "       u'community_board', u'complaint_type', u'created_date',\n",
    "       u'cross_street_1', u'cross_street_2', u'descriptor', u'due_date',\n",
    "       u'facility_type', u'incident_address', u'incident_zip',\n",
    "       u'intersection_street_1', u'intersection_street_2', u'landmark',\n",
    "       u'latitude', u'location_type', u'longitude', u'park_borough',\n",
    "       u'park_facility_name', u'resolution_action_updated_date',\n",
    "       u'resolution_description', u'school_address', u'school_city',\n",
    "       u'school_code', u'school_name', u'school_not_found', u'school_number',\n",
    "       u'school_phone_number', u'school_region', u'school_state',\n",
    "       u'school_zip', u'status', u'street_name', u'unique_key',\n",
    "       u'derived_boroughs', u'located', u'BoroCT2010', u'year']"
   ]
  },
  {
   "cell_type": "code",
   "execution_count": 20,
   "metadata": {
    "collapsed": false
   },
   "outputs": [],
   "source": [
    "##Selecting year  and census tracts to find aggregate complaints based on census tracts\n",
    "f2=f1[['BoroCT2010','unique_key','year']]"
   ]
  },
  {
   "cell_type": "code",
   "execution_count": 21,
   "metadata": {
    "collapsed": false
   },
   "outputs": [],
   "source": [
    "f3=f2.groupby('BoroCT2010')['year'].value_counts()"
   ]
  },
  {
   "cell_type": "code",
   "execution_count": 22,
   "metadata": {
    "collapsed": false
   },
   "outputs": [],
   "source": [
    "f3=f3.reset_index()"
   ]
  },
  {
   "cell_type": "code",
   "execution_count": 23,
   "metadata": {
    "collapsed": false
   },
   "outputs": [],
   "source": [
    "#This would give year and borough as columns \n",
    "#f2.groupby('year')['BoroCT2010'].value_counts()\n",
    "f3=f3.set_index(['BoroCT2010','year']).unstack('year')"
   ]
  },
  {
   "cell_type": "code",
   "execution_count": 24,
   "metadata": {
    "collapsed": false
   },
   "outputs": [],
   "source": [
    "f3.columns=f3.columns.droplevel()"
   ]
  },
  {
   "cell_type": "code",
   "execution_count": 25,
   "metadata": {
    "collapsed": false
   },
   "outputs": [],
   "source": [
    "f3=(f3.reset_index())"
   ]
  },
  {
   "cell_type": "code",
   "execution_count": 26,
   "metadata": {
    "collapsed": false
   },
   "outputs": [
    {
     "data": {
      "text/html": [
       "<div>\n",
       "<table border=\"1\" class=\"dataframe\">\n",
       "  <thead>\n",
       "    <tr style=\"text-align: right;\">\n",
       "      <th>year</th>\n",
       "      <th>BoroCT2010</th>\n",
       "      <th>2005</th>\n",
       "      <th>2006</th>\n",
       "      <th>2007</th>\n",
       "      <th>2008</th>\n",
       "      <th>2009</th>\n",
       "      <th>2010</th>\n",
       "      <th>2011</th>\n",
       "      <th>2012</th>\n",
       "      <th>2013</th>\n",
       "      <th>2014</th>\n",
       "      <th>2015</th>\n",
       "      <th>2016</th>\n",
       "    </tr>\n",
       "  </thead>\n",
       "  <tbody>\n",
       "    <tr>\n",
       "      <th>0</th>\n",
       "      <td>36005000100</td>\n",
       "      <td>NaN</td>\n",
       "      <td>NaN</td>\n",
       "      <td>NaN</td>\n",
       "      <td>1</td>\n",
       "      <td>NaN</td>\n",
       "      <td>NaN</td>\n",
       "      <td>NaN</td>\n",
       "      <td>NaN</td>\n",
       "      <td>NaN</td>\n",
       "      <td>NaN</td>\n",
       "      <td>NaN</td>\n",
       "      <td>2</td>\n",
       "    </tr>\n",
       "    <tr>\n",
       "      <th>1</th>\n",
       "      <td>36005000200</td>\n",
       "      <td>41</td>\n",
       "      <td>34</td>\n",
       "      <td>45</td>\n",
       "      <td>45</td>\n",
       "      <td>63</td>\n",
       "      <td>47</td>\n",
       "      <td>2</td>\n",
       "      <td>8</td>\n",
       "      <td>2</td>\n",
       "      <td>8</td>\n",
       "      <td>29</td>\n",
       "      <td>40</td>\n",
       "    </tr>\n",
       "    <tr>\n",
       "      <th>2</th>\n",
       "      <td>36005000400</td>\n",
       "      <td>31</td>\n",
       "      <td>37</td>\n",
       "      <td>24</td>\n",
       "      <td>30</td>\n",
       "      <td>38</td>\n",
       "      <td>25</td>\n",
       "      <td>1</td>\n",
       "      <td>2</td>\n",
       "      <td>6</td>\n",
       "      <td>12</td>\n",
       "      <td>18</td>\n",
       "      <td>44</td>\n",
       "    </tr>\n",
       "    <tr>\n",
       "      <th>3</th>\n",
       "      <td>36005001600</td>\n",
       "      <td>20</td>\n",
       "      <td>18</td>\n",
       "      <td>31</td>\n",
       "      <td>21</td>\n",
       "      <td>42</td>\n",
       "      <td>48</td>\n",
       "      <td>1</td>\n",
       "      <td>2</td>\n",
       "      <td>2</td>\n",
       "      <td>5</td>\n",
       "      <td>34</td>\n",
       "      <td>31</td>\n",
       "    </tr>\n",
       "    <tr>\n",
       "      <th>4</th>\n",
       "      <td>36005001900</td>\n",
       "      <td>110</td>\n",
       "      <td>97</td>\n",
       "      <td>157</td>\n",
       "      <td>195</td>\n",
       "      <td>148</td>\n",
       "      <td>142</td>\n",
       "      <td>9</td>\n",
       "      <td>6</td>\n",
       "      <td>17</td>\n",
       "      <td>49</td>\n",
       "      <td>96</td>\n",
       "      <td>172</td>\n",
       "    </tr>\n",
       "    <tr>\n",
       "      <th>5</th>\n",
       "      <td>36005002000</td>\n",
       "      <td>19</td>\n",
       "      <td>13</td>\n",
       "      <td>19</td>\n",
       "      <td>28</td>\n",
       "      <td>34</td>\n",
       "      <td>42</td>\n",
       "      <td>NaN</td>\n",
       "      <td>NaN</td>\n",
       "      <td>1</td>\n",
       "      <td>7</td>\n",
       "      <td>21</td>\n",
       "      <td>44</td>\n",
       "    </tr>\n",
       "    <tr>\n",
       "      <th>6</th>\n",
       "      <td>36005002300</td>\n",
       "      <td>18</td>\n",
       "      <td>11</td>\n",
       "      <td>13</td>\n",
       "      <td>19</td>\n",
       "      <td>13</td>\n",
       "      <td>9</td>\n",
       "      <td>NaN</td>\n",
       "      <td>NaN</td>\n",
       "      <td>3</td>\n",
       "      <td>NaN</td>\n",
       "      <td>2</td>\n",
       "      <td>7</td>\n",
       "    </tr>\n",
       "    <tr>\n",
       "      <th>7</th>\n",
       "      <td>36005002400</td>\n",
       "      <td>NaN</td>\n",
       "      <td>2</td>\n",
       "      <td>2</td>\n",
       "      <td>4</td>\n",
       "      <td>3</td>\n",
       "      <td>7</td>\n",
       "      <td>NaN</td>\n",
       "      <td>NaN</td>\n",
       "      <td>1</td>\n",
       "      <td>1</td>\n",
       "      <td>4</td>\n",
       "      <td>9</td>\n",
       "    </tr>\n",
       "    <tr>\n",
       "      <th>8</th>\n",
       "      <td>36005002500</td>\n",
       "      <td>14</td>\n",
       "      <td>9</td>\n",
       "      <td>12</td>\n",
       "      <td>6</td>\n",
       "      <td>11</td>\n",
       "      <td>3</td>\n",
       "      <td>NaN</td>\n",
       "      <td>NaN</td>\n",
       "      <td>3</td>\n",
       "      <td>5</td>\n",
       "      <td>3</td>\n",
       "      <td>9</td>\n",
       "    </tr>\n",
       "    <tr>\n",
       "      <th>9</th>\n",
       "      <td>36005002701</td>\n",
       "      <td>8</td>\n",
       "      <td>5</td>\n",
       "      <td>7</td>\n",
       "      <td>19</td>\n",
       "      <td>10</td>\n",
       "      <td>11</td>\n",
       "      <td>NaN</td>\n",
       "      <td>NaN</td>\n",
       "      <td>NaN</td>\n",
       "      <td>NaN</td>\n",
       "      <td>6</td>\n",
       "      <td>5</td>\n",
       "    </tr>\n",
       "    <tr>\n",
       "      <th>10</th>\n",
       "      <td>36005002702</td>\n",
       "      <td>16</td>\n",
       "      <td>11</td>\n",
       "      <td>17</td>\n",
       "      <td>19</td>\n",
       "      <td>15</td>\n",
       "      <td>10</td>\n",
       "      <td>NaN</td>\n",
       "      <td>NaN</td>\n",
       "      <td>NaN</td>\n",
       "      <td>2</td>\n",
       "      <td>5</td>\n",
       "      <td>13</td>\n",
       "    </tr>\n",
       "    <tr>\n",
       "      <th>11</th>\n",
       "      <td>36005002800</td>\n",
       "      <td>13</td>\n",
       "      <td>10</td>\n",
       "      <td>22</td>\n",
       "      <td>42</td>\n",
       "      <td>17</td>\n",
       "      <td>14</td>\n",
       "      <td>NaN</td>\n",
       "      <td>NaN</td>\n",
       "      <td>NaN</td>\n",
       "      <td>9</td>\n",
       "      <td>39</td>\n",
       "      <td>31</td>\n",
       "    </tr>\n",
       "    <tr>\n",
       "      <th>12</th>\n",
       "      <td>36005003100</td>\n",
       "      <td>18</td>\n",
       "      <td>15</td>\n",
       "      <td>9</td>\n",
       "      <td>12</td>\n",
       "      <td>9</td>\n",
       "      <td>10</td>\n",
       "      <td>NaN</td>\n",
       "      <td>1</td>\n",
       "      <td>NaN</td>\n",
       "      <td>NaN</td>\n",
       "      <td>4</td>\n",
       "      <td>21</td>\n",
       "    </tr>\n",
       "    <tr>\n",
       "      <th>13</th>\n",
       "      <td>36005003300</td>\n",
       "      <td>8</td>\n",
       "      <td>21</td>\n",
       "      <td>7</td>\n",
       "      <td>10</td>\n",
       "      <td>5</td>\n",
       "      <td>23</td>\n",
       "      <td>NaN</td>\n",
       "      <td>NaN</td>\n",
       "      <td>1</td>\n",
       "      <td>7</td>\n",
       "      <td>11</td>\n",
       "      <td>12</td>\n",
       "    </tr>\n",
       "    <tr>\n",
       "      <th>14</th>\n",
       "      <td>36005003500</td>\n",
       "      <td>12</td>\n",
       "      <td>7</td>\n",
       "      <td>14</td>\n",
       "      <td>11</td>\n",
       "      <td>10</td>\n",
       "      <td>13</td>\n",
       "      <td>NaN</td>\n",
       "      <td>NaN</td>\n",
       "      <td>3</td>\n",
       "      <td>3</td>\n",
       "      <td>5</td>\n",
       "      <td>8</td>\n",
       "    </tr>\n",
       "    <tr>\n",
       "      <th>15</th>\n",
       "      <td>36005003700</td>\n",
       "      <td>4</td>\n",
       "      <td>1</td>\n",
       "      <td>3</td>\n",
       "      <td>5</td>\n",
       "      <td>4</td>\n",
       "      <td>2</td>\n",
       "      <td>NaN</td>\n",
       "      <td>1</td>\n",
       "      <td>NaN</td>\n",
       "      <td>NaN</td>\n",
       "      <td>4</td>\n",
       "      <td>4</td>\n",
       "    </tr>\n",
       "    <tr>\n",
       "      <th>16</th>\n",
       "      <td>36005003800</td>\n",
       "      <td>4</td>\n",
       "      <td>3</td>\n",
       "      <td>2</td>\n",
       "      <td>2</td>\n",
       "      <td>3</td>\n",
       "      <td>2</td>\n",
       "      <td>NaN</td>\n",
       "      <td>NaN</td>\n",
       "      <td>NaN</td>\n",
       "      <td>NaN</td>\n",
       "      <td>2</td>\n",
       "      <td>12</td>\n",
       "    </tr>\n",
       "    <tr>\n",
       "      <th>17</th>\n",
       "      <td>36005003900</td>\n",
       "      <td>26</td>\n",
       "      <td>18</td>\n",
       "      <td>12</td>\n",
       "      <td>18</td>\n",
       "      <td>10</td>\n",
       "      <td>17</td>\n",
       "      <td>NaN</td>\n",
       "      <td>NaN</td>\n",
       "      <td>4</td>\n",
       "      <td>17</td>\n",
       "      <td>28</td>\n",
       "      <td>16</td>\n",
       "    </tr>\n",
       "    <tr>\n",
       "      <th>18</th>\n",
       "      <td>36005004001</td>\n",
       "      <td>10</td>\n",
       "      <td>1</td>\n",
       "      <td>3</td>\n",
       "      <td>8</td>\n",
       "      <td>15</td>\n",
       "      <td>8</td>\n",
       "      <td>NaN</td>\n",
       "      <td>NaN</td>\n",
       "      <td>NaN</td>\n",
       "      <td>15</td>\n",
       "      <td>6</td>\n",
       "      <td>13</td>\n",
       "    </tr>\n",
       "    <tr>\n",
       "      <th>19</th>\n",
       "      <td>36005004100</td>\n",
       "      <td>14</td>\n",
       "      <td>18</td>\n",
       "      <td>12</td>\n",
       "      <td>7</td>\n",
       "      <td>13</td>\n",
       "      <td>14</td>\n",
       "      <td>NaN</td>\n",
       "      <td>NaN</td>\n",
       "      <td>1</td>\n",
       "      <td>4</td>\n",
       "      <td>9</td>\n",
       "      <td>13</td>\n",
       "    </tr>\n",
       "    <tr>\n",
       "      <th>20</th>\n",
       "      <td>36005004200</td>\n",
       "      <td>29</td>\n",
       "      <td>19</td>\n",
       "      <td>44</td>\n",
       "      <td>59</td>\n",
       "      <td>57</td>\n",
       "      <td>45</td>\n",
       "      <td>3</td>\n",
       "      <td>5</td>\n",
       "      <td>14</td>\n",
       "      <td>25</td>\n",
       "      <td>28</td>\n",
       "      <td>73</td>\n",
       "    </tr>\n",
       "    <tr>\n",
       "      <th>21</th>\n",
       "      <td>36005004300</td>\n",
       "      <td>23</td>\n",
       "      <td>33</td>\n",
       "      <td>11</td>\n",
       "      <td>21</td>\n",
       "      <td>16</td>\n",
       "      <td>24</td>\n",
       "      <td>NaN</td>\n",
       "      <td>NaN</td>\n",
       "      <td>NaN</td>\n",
       "      <td>10</td>\n",
       "      <td>14</td>\n",
       "      <td>25</td>\n",
       "    </tr>\n",
       "    <tr>\n",
       "      <th>22</th>\n",
       "      <td>36005004400</td>\n",
       "      <td>10</td>\n",
       "      <td>12</td>\n",
       "      <td>12</td>\n",
       "      <td>22</td>\n",
       "      <td>25</td>\n",
       "      <td>19</td>\n",
       "      <td>8</td>\n",
       "      <td>3</td>\n",
       "      <td>4</td>\n",
       "      <td>17</td>\n",
       "      <td>35</td>\n",
       "      <td>36</td>\n",
       "    </tr>\n",
       "    <tr>\n",
       "      <th>23</th>\n",
       "      <td>36005004600</td>\n",
       "      <td>14</td>\n",
       "      <td>6</td>\n",
       "      <td>5</td>\n",
       "      <td>9</td>\n",
       "      <td>8</td>\n",
       "      <td>17</td>\n",
       "      <td>4</td>\n",
       "      <td>1</td>\n",
       "      <td>2</td>\n",
       "      <td>13</td>\n",
       "      <td>15</td>\n",
       "      <td>12</td>\n",
       "    </tr>\n",
       "    <tr>\n",
       "      <th>24</th>\n",
       "      <td>36005004800</td>\n",
       "      <td>11</td>\n",
       "      <td>18</td>\n",
       "      <td>13</td>\n",
       "      <td>19</td>\n",
       "      <td>15</td>\n",
       "      <td>16</td>\n",
       "      <td>6</td>\n",
       "      <td>3</td>\n",
       "      <td>3</td>\n",
       "      <td>3</td>\n",
       "      <td>22</td>\n",
       "      <td>21</td>\n",
       "    </tr>\n",
       "    <tr>\n",
       "      <th>25</th>\n",
       "      <td>36005005001</td>\n",
       "      <td>20</td>\n",
       "      <td>20</td>\n",
       "      <td>16</td>\n",
       "      <td>27</td>\n",
       "      <td>23</td>\n",
       "      <td>17</td>\n",
       "      <td>15</td>\n",
       "      <td>11</td>\n",
       "      <td>8</td>\n",
       "      <td>24</td>\n",
       "      <td>30</td>\n",
       "      <td>16</td>\n",
       "    </tr>\n",
       "    <tr>\n",
       "      <th>26</th>\n",
       "      <td>36005005002</td>\n",
       "      <td>9</td>\n",
       "      <td>10</td>\n",
       "      <td>14</td>\n",
       "      <td>17</td>\n",
       "      <td>9</td>\n",
       "      <td>6</td>\n",
       "      <td>NaN</td>\n",
       "      <td>NaN</td>\n",
       "      <td>NaN</td>\n",
       "      <td>2</td>\n",
       "      <td>15</td>\n",
       "      <td>24</td>\n",
       "    </tr>\n",
       "    <tr>\n",
       "      <th>27</th>\n",
       "      <td>36005005100</td>\n",
       "      <td>54</td>\n",
       "      <td>56</td>\n",
       "      <td>35</td>\n",
       "      <td>40</td>\n",
       "      <td>54</td>\n",
       "      <td>46</td>\n",
       "      <td>1</td>\n",
       "      <td>1</td>\n",
       "      <td>8</td>\n",
       "      <td>13</td>\n",
       "      <td>20</td>\n",
       "      <td>48</td>\n",
       "    </tr>\n",
       "    <tr>\n",
       "      <th>28</th>\n",
       "      <td>36005005200</td>\n",
       "      <td>5</td>\n",
       "      <td>19</td>\n",
       "      <td>16</td>\n",
       "      <td>9</td>\n",
       "      <td>5</td>\n",
       "      <td>8</td>\n",
       "      <td>NaN</td>\n",
       "      <td>NaN</td>\n",
       "      <td>NaN</td>\n",
       "      <td>12</td>\n",
       "      <td>5</td>\n",
       "      <td>19</td>\n",
       "    </tr>\n",
       "    <tr>\n",
       "      <th>29</th>\n",
       "      <td>36005005300</td>\n",
       "      <td>3</td>\n",
       "      <td>2</td>\n",
       "      <td>3</td>\n",
       "      <td>3</td>\n",
       "      <td>5</td>\n",
       "      <td>6</td>\n",
       "      <td>NaN</td>\n",
       "      <td>NaN</td>\n",
       "      <td>NaN</td>\n",
       "      <td>NaN</td>\n",
       "      <td>4</td>\n",
       "      <td>NaN</td>\n",
       "    </tr>\n",
       "    <tr>\n",
       "      <th>...</th>\n",
       "      <td>...</td>\n",
       "      <td>...</td>\n",
       "      <td>...</td>\n",
       "      <td>...</td>\n",
       "      <td>...</td>\n",
       "      <td>...</td>\n",
       "      <td>...</td>\n",
       "      <td>...</td>\n",
       "      <td>...</td>\n",
       "      <td>...</td>\n",
       "      <td>...</td>\n",
       "      <td>...</td>\n",
       "      <td>...</td>\n",
       "    </tr>\n",
       "    <tr>\n",
       "      <th>2129</th>\n",
       "      <td>36085020700</td>\n",
       "      <td>140</td>\n",
       "      <td>112</td>\n",
       "      <td>151</td>\n",
       "      <td>132</td>\n",
       "      <td>153</td>\n",
       "      <td>105</td>\n",
       "      <td>6</td>\n",
       "      <td>4</td>\n",
       "      <td>20</td>\n",
       "      <td>32</td>\n",
       "      <td>83</td>\n",
       "      <td>93</td>\n",
       "    </tr>\n",
       "    <tr>\n",
       "      <th>2130</th>\n",
       "      <td>36085020801</td>\n",
       "      <td>236</td>\n",
       "      <td>224</td>\n",
       "      <td>249</td>\n",
       "      <td>302</td>\n",
       "      <td>377</td>\n",
       "      <td>321</td>\n",
       "      <td>6</td>\n",
       "      <td>1</td>\n",
       "      <td>51</td>\n",
       "      <td>98</td>\n",
       "      <td>176</td>\n",
       "      <td>158</td>\n",
       "    </tr>\n",
       "    <tr>\n",
       "      <th>2131</th>\n",
       "      <td>36085020803</td>\n",
       "      <td>95</td>\n",
       "      <td>123</td>\n",
       "      <td>92</td>\n",
       "      <td>92</td>\n",
       "      <td>104</td>\n",
       "      <td>103</td>\n",
       "      <td>4</td>\n",
       "      <td>2</td>\n",
       "      <td>18</td>\n",
       "      <td>33</td>\n",
       "      <td>72</td>\n",
       "      <td>107</td>\n",
       "    </tr>\n",
       "    <tr>\n",
       "      <th>2132</th>\n",
       "      <td>36085020804</td>\n",
       "      <td>96</td>\n",
       "      <td>86</td>\n",
       "      <td>91</td>\n",
       "      <td>89</td>\n",
       "      <td>89</td>\n",
       "      <td>90</td>\n",
       "      <td>1</td>\n",
       "      <td>1</td>\n",
       "      <td>16</td>\n",
       "      <td>48</td>\n",
       "      <td>55</td>\n",
       "      <td>94</td>\n",
       "    </tr>\n",
       "    <tr>\n",
       "      <th>2133</th>\n",
       "      <td>36085021300</td>\n",
       "      <td>56</td>\n",
       "      <td>51</td>\n",
       "      <td>88</td>\n",
       "      <td>70</td>\n",
       "      <td>84</td>\n",
       "      <td>112</td>\n",
       "      <td>6</td>\n",
       "      <td>NaN</td>\n",
       "      <td>6</td>\n",
       "      <td>46</td>\n",
       "      <td>54</td>\n",
       "      <td>48</td>\n",
       "    </tr>\n",
       "    <tr>\n",
       "      <th>2134</th>\n",
       "      <td>36085022300</td>\n",
       "      <td>54</td>\n",
       "      <td>37</td>\n",
       "      <td>31</td>\n",
       "      <td>44</td>\n",
       "      <td>43</td>\n",
       "      <td>34</td>\n",
       "      <td>2</td>\n",
       "      <td>1</td>\n",
       "      <td>4</td>\n",
       "      <td>21</td>\n",
       "      <td>46</td>\n",
       "      <td>60</td>\n",
       "    </tr>\n",
       "    <tr>\n",
       "      <th>2135</th>\n",
       "      <td>36085022600</td>\n",
       "      <td>217</td>\n",
       "      <td>189</td>\n",
       "      <td>229</td>\n",
       "      <td>237</td>\n",
       "      <td>316</td>\n",
       "      <td>258</td>\n",
       "      <td>24</td>\n",
       "      <td>10</td>\n",
       "      <td>48</td>\n",
       "      <td>87</td>\n",
       "      <td>138</td>\n",
       "      <td>260</td>\n",
       "    </tr>\n",
       "    <tr>\n",
       "      <th>2136</th>\n",
       "      <td>36085022800</td>\n",
       "      <td>144</td>\n",
       "      <td>147</td>\n",
       "      <td>118</td>\n",
       "      <td>93</td>\n",
       "      <td>172</td>\n",
       "      <td>188</td>\n",
       "      <td>19</td>\n",
       "      <td>12</td>\n",
       "      <td>31</td>\n",
       "      <td>69</td>\n",
       "      <td>88</td>\n",
       "      <td>64</td>\n",
       "    </tr>\n",
       "    <tr>\n",
       "      <th>2137</th>\n",
       "      <td>36085023100</td>\n",
       "      <td>65</td>\n",
       "      <td>40</td>\n",
       "      <td>66</td>\n",
       "      <td>35</td>\n",
       "      <td>53</td>\n",
       "      <td>72</td>\n",
       "      <td>5</td>\n",
       "      <td>1</td>\n",
       "      <td>9</td>\n",
       "      <td>37</td>\n",
       "      <td>27</td>\n",
       "      <td>33</td>\n",
       "    </tr>\n",
       "    <tr>\n",
       "      <th>2138</th>\n",
       "      <td>36085023900</td>\n",
       "      <td>67</td>\n",
       "      <td>70</td>\n",
       "      <td>75</td>\n",
       "      <td>69</td>\n",
       "      <td>122</td>\n",
       "      <td>82</td>\n",
       "      <td>NaN</td>\n",
       "      <td>NaN</td>\n",
       "      <td>3</td>\n",
       "      <td>21</td>\n",
       "      <td>48</td>\n",
       "      <td>46</td>\n",
       "    </tr>\n",
       "    <tr>\n",
       "      <th>2139</th>\n",
       "      <td>36085024401</td>\n",
       "      <td>94</td>\n",
       "      <td>98</td>\n",
       "      <td>127</td>\n",
       "      <td>116</td>\n",
       "      <td>166</td>\n",
       "      <td>135</td>\n",
       "      <td>11</td>\n",
       "      <td>4</td>\n",
       "      <td>23</td>\n",
       "      <td>50</td>\n",
       "      <td>103</td>\n",
       "      <td>110</td>\n",
       "    </tr>\n",
       "    <tr>\n",
       "      <th>2140</th>\n",
       "      <td>36085024402</td>\n",
       "      <td>72</td>\n",
       "      <td>48</td>\n",
       "      <td>53</td>\n",
       "      <td>61</td>\n",
       "      <td>58</td>\n",
       "      <td>69</td>\n",
       "      <td>2</td>\n",
       "      <td>2</td>\n",
       "      <td>14</td>\n",
       "      <td>38</td>\n",
       "      <td>65</td>\n",
       "      <td>37</td>\n",
       "    </tr>\n",
       "    <tr>\n",
       "      <th>2141</th>\n",
       "      <td>36085024700</td>\n",
       "      <td>29</td>\n",
       "      <td>32</td>\n",
       "      <td>74</td>\n",
       "      <td>44</td>\n",
       "      <td>69</td>\n",
       "      <td>101</td>\n",
       "      <td>8</td>\n",
       "      <td>1</td>\n",
       "      <td>4</td>\n",
       "      <td>24</td>\n",
       "      <td>32</td>\n",
       "      <td>12</td>\n",
       "    </tr>\n",
       "    <tr>\n",
       "      <th>2142</th>\n",
       "      <td>36085024800</td>\n",
       "      <td>62</td>\n",
       "      <td>84</td>\n",
       "      <td>111</td>\n",
       "      <td>117</td>\n",
       "      <td>141</td>\n",
       "      <td>141</td>\n",
       "      <td>7</td>\n",
       "      <td>2</td>\n",
       "      <td>31</td>\n",
       "      <td>48</td>\n",
       "      <td>83</td>\n",
       "      <td>175</td>\n",
       "    </tr>\n",
       "    <tr>\n",
       "      <th>2143</th>\n",
       "      <td>36085025100</td>\n",
       "      <td>136</td>\n",
       "      <td>108</td>\n",
       "      <td>123</td>\n",
       "      <td>116</td>\n",
       "      <td>139</td>\n",
       "      <td>99</td>\n",
       "      <td>7</td>\n",
       "      <td>3</td>\n",
       "      <td>17</td>\n",
       "      <td>54</td>\n",
       "      <td>109</td>\n",
       "      <td>143</td>\n",
       "    </tr>\n",
       "    <tr>\n",
       "      <th>2144</th>\n",
       "      <td>36085027301</td>\n",
       "      <td>62</td>\n",
       "      <td>43</td>\n",
       "      <td>84</td>\n",
       "      <td>49</td>\n",
       "      <td>93</td>\n",
       "      <td>63</td>\n",
       "      <td>NaN</td>\n",
       "      <td>NaN</td>\n",
       "      <td>6</td>\n",
       "      <td>13</td>\n",
       "      <td>37</td>\n",
       "      <td>57</td>\n",
       "    </tr>\n",
       "    <tr>\n",
       "      <th>2145</th>\n",
       "      <td>36085027302</td>\n",
       "      <td>82</td>\n",
       "      <td>70</td>\n",
       "      <td>111</td>\n",
       "      <td>68</td>\n",
       "      <td>100</td>\n",
       "      <td>97</td>\n",
       "      <td>1</td>\n",
       "      <td>2</td>\n",
       "      <td>6</td>\n",
       "      <td>28</td>\n",
       "      <td>57</td>\n",
       "      <td>66</td>\n",
       "    </tr>\n",
       "    <tr>\n",
       "      <th>2146</th>\n",
       "      <td>36085027702</td>\n",
       "      <td>59</td>\n",
       "      <td>64</td>\n",
       "      <td>86</td>\n",
       "      <td>87</td>\n",
       "      <td>151</td>\n",
       "      <td>137</td>\n",
       "      <td>20</td>\n",
       "      <td>14</td>\n",
       "      <td>35</td>\n",
       "      <td>107</td>\n",
       "      <td>115</td>\n",
       "      <td>128</td>\n",
       "    </tr>\n",
       "    <tr>\n",
       "      <th>2147</th>\n",
       "      <td>36085027704</td>\n",
       "      <td>109</td>\n",
       "      <td>96</td>\n",
       "      <td>121</td>\n",
       "      <td>159</td>\n",
       "      <td>106</td>\n",
       "      <td>44</td>\n",
       "      <td>2</td>\n",
       "      <td>NaN</td>\n",
       "      <td>6</td>\n",
       "      <td>27</td>\n",
       "      <td>48</td>\n",
       "      <td>53</td>\n",
       "    </tr>\n",
       "    <tr>\n",
       "      <th>2148</th>\n",
       "      <td>36085027705</td>\n",
       "      <td>54</td>\n",
       "      <td>89</td>\n",
       "      <td>84</td>\n",
       "      <td>67</td>\n",
       "      <td>74</td>\n",
       "      <td>27</td>\n",
       "      <td>NaN</td>\n",
       "      <td>NaN</td>\n",
       "      <td>3</td>\n",
       "      <td>26</td>\n",
       "      <td>28</td>\n",
       "      <td>34</td>\n",
       "    </tr>\n",
       "    <tr>\n",
       "      <th>2149</th>\n",
       "      <td>36085027706</td>\n",
       "      <td>30</td>\n",
       "      <td>42</td>\n",
       "      <td>54</td>\n",
       "      <td>69</td>\n",
       "      <td>78</td>\n",
       "      <td>46</td>\n",
       "      <td>NaN</td>\n",
       "      <td>NaN</td>\n",
       "      <td>NaN</td>\n",
       "      <td>22</td>\n",
       "      <td>17</td>\n",
       "      <td>25</td>\n",
       "    </tr>\n",
       "    <tr>\n",
       "      <th>2150</th>\n",
       "      <td>36085027900</td>\n",
       "      <td>175</td>\n",
       "      <td>134</td>\n",
       "      <td>175</td>\n",
       "      <td>242</td>\n",
       "      <td>221</td>\n",
       "      <td>181</td>\n",
       "      <td>10</td>\n",
       "      <td>2</td>\n",
       "      <td>27</td>\n",
       "      <td>63</td>\n",
       "      <td>89</td>\n",
       "      <td>178</td>\n",
       "    </tr>\n",
       "    <tr>\n",
       "      <th>2151</th>\n",
       "      <td>36085029102</td>\n",
       "      <td>104</td>\n",
       "      <td>164</td>\n",
       "      <td>148</td>\n",
       "      <td>144</td>\n",
       "      <td>176</td>\n",
       "      <td>195</td>\n",
       "      <td>6</td>\n",
       "      <td>8</td>\n",
       "      <td>31</td>\n",
       "      <td>57</td>\n",
       "      <td>100</td>\n",
       "      <td>151</td>\n",
       "    </tr>\n",
       "    <tr>\n",
       "      <th>2152</th>\n",
       "      <td>36085029103</td>\n",
       "      <td>145</td>\n",
       "      <td>111</td>\n",
       "      <td>138</td>\n",
       "      <td>156</td>\n",
       "      <td>167</td>\n",
       "      <td>159</td>\n",
       "      <td>7</td>\n",
       "      <td>3</td>\n",
       "      <td>26</td>\n",
       "      <td>83</td>\n",
       "      <td>122</td>\n",
       "      <td>97</td>\n",
       "    </tr>\n",
       "    <tr>\n",
       "      <th>2153</th>\n",
       "      <td>36085029104</td>\n",
       "      <td>159</td>\n",
       "      <td>104</td>\n",
       "      <td>143</td>\n",
       "      <td>130</td>\n",
       "      <td>170</td>\n",
       "      <td>169</td>\n",
       "      <td>16</td>\n",
       "      <td>7</td>\n",
       "      <td>24</td>\n",
       "      <td>38</td>\n",
       "      <td>79</td>\n",
       "      <td>65</td>\n",
       "    </tr>\n",
       "    <tr>\n",
       "      <th>2154</th>\n",
       "      <td>36085030301</td>\n",
       "      <td>87</td>\n",
       "      <td>55</td>\n",
       "      <td>74</td>\n",
       "      <td>96</td>\n",
       "      <td>61</td>\n",
       "      <td>53</td>\n",
       "      <td>4</td>\n",
       "      <td>NaN</td>\n",
       "      <td>2</td>\n",
       "      <td>38</td>\n",
       "      <td>42</td>\n",
       "      <td>50</td>\n",
       "    </tr>\n",
       "    <tr>\n",
       "      <th>2155</th>\n",
       "      <td>36085030302</td>\n",
       "      <td>70</td>\n",
       "      <td>62</td>\n",
       "      <td>63</td>\n",
       "      <td>51</td>\n",
       "      <td>108</td>\n",
       "      <td>70</td>\n",
       "      <td>2</td>\n",
       "      <td>NaN</td>\n",
       "      <td>8</td>\n",
       "      <td>20</td>\n",
       "      <td>21</td>\n",
       "      <td>26</td>\n",
       "    </tr>\n",
       "    <tr>\n",
       "      <th>2156</th>\n",
       "      <td>36085031901</td>\n",
       "      <td>15</td>\n",
       "      <td>28</td>\n",
       "      <td>19</td>\n",
       "      <td>18</td>\n",
       "      <td>25</td>\n",
       "      <td>29</td>\n",
       "      <td>NaN</td>\n",
       "      <td>NaN</td>\n",
       "      <td>8</td>\n",
       "      <td>5</td>\n",
       "      <td>21</td>\n",
       "      <td>24</td>\n",
       "    </tr>\n",
       "    <tr>\n",
       "      <th>2157</th>\n",
       "      <td>36085031902</td>\n",
       "      <td>37</td>\n",
       "      <td>48</td>\n",
       "      <td>36</td>\n",
       "      <td>42</td>\n",
       "      <td>86</td>\n",
       "      <td>44</td>\n",
       "      <td>NaN</td>\n",
       "      <td>NaN</td>\n",
       "      <td>3</td>\n",
       "      <td>5</td>\n",
       "      <td>35</td>\n",
       "      <td>39</td>\n",
       "    </tr>\n",
       "    <tr>\n",
       "      <th>2158</th>\n",
       "      <td>36085032300</td>\n",
       "      <td>44</td>\n",
       "      <td>58</td>\n",
       "      <td>25</td>\n",
       "      <td>59</td>\n",
       "      <td>81</td>\n",
       "      <td>46</td>\n",
       "      <td>4</td>\n",
       "      <td>4</td>\n",
       "      <td>7</td>\n",
       "      <td>10</td>\n",
       "      <td>40</td>\n",
       "      <td>33</td>\n",
       "    </tr>\n",
       "  </tbody>\n",
       "</table>\n",
       "<p>2159 rows × 13 columns</p>\n",
       "</div>"
      ],
      "text/plain": [
       "year   BoroCT2010  2005  2006  2007  2008  2009  2010  2011  2012  2013  2014  \\\n",
       "0     36005000100   NaN   NaN   NaN     1   NaN   NaN   NaN   NaN   NaN   NaN   \n",
       "1     36005000200    41    34    45    45    63    47     2     8     2     8   \n",
       "2     36005000400    31    37    24    30    38    25     1     2     6    12   \n",
       "3     36005001600    20    18    31    21    42    48     1     2     2     5   \n",
       "4     36005001900   110    97   157   195   148   142     9     6    17    49   \n",
       "5     36005002000    19    13    19    28    34    42   NaN   NaN     1     7   \n",
       "6     36005002300    18    11    13    19    13     9   NaN   NaN     3   NaN   \n",
       "7     36005002400   NaN     2     2     4     3     7   NaN   NaN     1     1   \n",
       "8     36005002500    14     9    12     6    11     3   NaN   NaN     3     5   \n",
       "9     36005002701     8     5     7    19    10    11   NaN   NaN   NaN   NaN   \n",
       "10    36005002702    16    11    17    19    15    10   NaN   NaN   NaN     2   \n",
       "11    36005002800    13    10    22    42    17    14   NaN   NaN   NaN     9   \n",
       "12    36005003100    18    15     9    12     9    10   NaN     1   NaN   NaN   \n",
       "13    36005003300     8    21     7    10     5    23   NaN   NaN     1     7   \n",
       "14    36005003500    12     7    14    11    10    13   NaN   NaN     3     3   \n",
       "15    36005003700     4     1     3     5     4     2   NaN     1   NaN   NaN   \n",
       "16    36005003800     4     3     2     2     3     2   NaN   NaN   NaN   NaN   \n",
       "17    36005003900    26    18    12    18    10    17   NaN   NaN     4    17   \n",
       "18    36005004001    10     1     3     8    15     8   NaN   NaN   NaN    15   \n",
       "19    36005004100    14    18    12     7    13    14   NaN   NaN     1     4   \n",
       "20    36005004200    29    19    44    59    57    45     3     5    14    25   \n",
       "21    36005004300    23    33    11    21    16    24   NaN   NaN   NaN    10   \n",
       "22    36005004400    10    12    12    22    25    19     8     3     4    17   \n",
       "23    36005004600    14     6     5     9     8    17     4     1     2    13   \n",
       "24    36005004800    11    18    13    19    15    16     6     3     3     3   \n",
       "25    36005005001    20    20    16    27    23    17    15    11     8    24   \n",
       "26    36005005002     9    10    14    17     9     6   NaN   NaN   NaN     2   \n",
       "27    36005005100    54    56    35    40    54    46     1     1     8    13   \n",
       "28    36005005200     5    19    16     9     5     8   NaN   NaN   NaN    12   \n",
       "29    36005005300     3     2     3     3     5     6   NaN   NaN   NaN   NaN   \n",
       "...           ...   ...   ...   ...   ...   ...   ...   ...   ...   ...   ...   \n",
       "2129  36085020700   140   112   151   132   153   105     6     4    20    32   \n",
       "2130  36085020801   236   224   249   302   377   321     6     1    51    98   \n",
       "2131  36085020803    95   123    92    92   104   103     4     2    18    33   \n",
       "2132  36085020804    96    86    91    89    89    90     1     1    16    48   \n",
       "2133  36085021300    56    51    88    70    84   112     6   NaN     6    46   \n",
       "2134  36085022300    54    37    31    44    43    34     2     1     4    21   \n",
       "2135  36085022600   217   189   229   237   316   258    24    10    48    87   \n",
       "2136  36085022800   144   147   118    93   172   188    19    12    31    69   \n",
       "2137  36085023100    65    40    66    35    53    72     5     1     9    37   \n",
       "2138  36085023900    67    70    75    69   122    82   NaN   NaN     3    21   \n",
       "2139  36085024401    94    98   127   116   166   135    11     4    23    50   \n",
       "2140  36085024402    72    48    53    61    58    69     2     2    14    38   \n",
       "2141  36085024700    29    32    74    44    69   101     8     1     4    24   \n",
       "2142  36085024800    62    84   111   117   141   141     7     2    31    48   \n",
       "2143  36085025100   136   108   123   116   139    99     7     3    17    54   \n",
       "2144  36085027301    62    43    84    49    93    63   NaN   NaN     6    13   \n",
       "2145  36085027302    82    70   111    68   100    97     1     2     6    28   \n",
       "2146  36085027702    59    64    86    87   151   137    20    14    35   107   \n",
       "2147  36085027704   109    96   121   159   106    44     2   NaN     6    27   \n",
       "2148  36085027705    54    89    84    67    74    27   NaN   NaN     3    26   \n",
       "2149  36085027706    30    42    54    69    78    46   NaN   NaN   NaN    22   \n",
       "2150  36085027900   175   134   175   242   221   181    10     2    27    63   \n",
       "2151  36085029102   104   164   148   144   176   195     6     8    31    57   \n",
       "2152  36085029103   145   111   138   156   167   159     7     3    26    83   \n",
       "2153  36085029104   159   104   143   130   170   169    16     7    24    38   \n",
       "2154  36085030301    87    55    74    96    61    53     4   NaN     2    38   \n",
       "2155  36085030302    70    62    63    51   108    70     2   NaN     8    20   \n",
       "2156  36085031901    15    28    19    18    25    29   NaN   NaN     8     5   \n",
       "2157  36085031902    37    48    36    42    86    44   NaN   NaN     3     5   \n",
       "2158  36085032300    44    58    25    59    81    46     4     4     7    10   \n",
       "\n",
       "year  2015  2016  \n",
       "0      NaN     2  \n",
       "1       29    40  \n",
       "2       18    44  \n",
       "3       34    31  \n",
       "4       96   172  \n",
       "5       21    44  \n",
       "6        2     7  \n",
       "7        4     9  \n",
       "8        3     9  \n",
       "9        6     5  \n",
       "10       5    13  \n",
       "11      39    31  \n",
       "12       4    21  \n",
       "13      11    12  \n",
       "14       5     8  \n",
       "15       4     4  \n",
       "16       2    12  \n",
       "17      28    16  \n",
       "18       6    13  \n",
       "19       9    13  \n",
       "20      28    73  \n",
       "21      14    25  \n",
       "22      35    36  \n",
       "23      15    12  \n",
       "24      22    21  \n",
       "25      30    16  \n",
       "26      15    24  \n",
       "27      20    48  \n",
       "28       5    19  \n",
       "29       4   NaN  \n",
       "...    ...   ...  \n",
       "2129    83    93  \n",
       "2130   176   158  \n",
       "2131    72   107  \n",
       "2132    55    94  \n",
       "2133    54    48  \n",
       "2134    46    60  \n",
       "2135   138   260  \n",
       "2136    88    64  \n",
       "2137    27    33  \n",
       "2138    48    46  \n",
       "2139   103   110  \n",
       "2140    65    37  \n",
       "2141    32    12  \n",
       "2142    83   175  \n",
       "2143   109   143  \n",
       "2144    37    57  \n",
       "2145    57    66  \n",
       "2146   115   128  \n",
       "2147    48    53  \n",
       "2148    28    34  \n",
       "2149    17    25  \n",
       "2150    89   178  \n",
       "2151   100   151  \n",
       "2152   122    97  \n",
       "2153    79    65  \n",
       "2154    42    50  \n",
       "2155    21    26  \n",
       "2156    21    24  \n",
       "2157    35    39  \n",
       "2158    40    33  \n",
       "\n",
       "[2159 rows x 13 columns]"
      ]
     },
     "execution_count": 26,
     "metadata": {},
     "output_type": "execute_result"
    }
   ],
   "source": [
    "f3"
   ]
  },
  {
   "cell_type": "code",
   "execution_count": 27,
   "metadata": {
    "collapsed": false
   },
   "outputs": [],
   "source": [
    "#We are taking other information from census shapefile \n",
    "c=census[['BoroCT2010','BoroName','NTAName','PUMA','geometry','GeoID']]"
   ]
  },
  {
   "cell_type": "code",
   "execution_count": 31,
   "metadata": {
    "collapsed": false
   },
   "outputs": [],
   "source": [
    "#Delete me\n",
    "#c.columns=[u'GeoID', u'BoroName', u'NTAName', u'PUMA', u'geometry', u'BoroCT2010']"
   ]
  },
  {
   "cell_type": "code",
   "execution_count": 216,
   "metadata": {
    "collapsed": false
   },
   "outputs": [],
   "source": [
    "geo=f3.merge(c,on='BoroCT2010',how='left')"
   ]
  },
  {
   "cell_type": "code",
   "execution_count": 217,
   "metadata": {
    "collapsed": false
   },
   "outputs": [
    {
     "data": {
      "text/plain": [
       "(2159, 18)"
      ]
     },
     "execution_count": 217,
     "metadata": {},
     "output_type": "execute_result"
    }
   ],
   "source": [
    "geo.shape"
   ]
  },
  {
   "cell_type": "code",
   "execution_count": 218,
   "metadata": {
    "collapsed": false
   },
   "outputs": [],
   "source": [
    "##ttl variable has total complaints for all years, grouped by boroughs\n",
    "ttl=f1.groupby('BoroCT2010').count()['unique_key'].reset_index()"
   ]
  },
  {
   "cell_type": "code",
   "execution_count": 219,
   "metadata": {
    "collapsed": false
   },
   "outputs": [],
   "source": [
    "ttl.columns=[u'BoroCT2010', u'Total']"
   ]
  },
  {
   "cell_type": "code",
   "execution_count": 220,
   "metadata": {
    "collapsed": false
   },
   "outputs": [],
   "source": [
    "geo1=geo.merge(ttl,on='BoroCT2010',how='inner')"
   ]
  },
  {
   "cell_type": "code",
   "execution_count": null,
   "metadata": {
    "collapsed": true
   },
   "outputs": [],
   "source": [
    "geo1.head()#[pd.isnull(geo1.BoroCT2010)]"
   ]
  },
  {
   "cell_type": "code",
   "execution_count": 222,
   "metadata": {
    "collapsed": false
   },
   "outputs": [],
   "source": [
    "## ACS 2014 income based on censustract for New York State\n",
    "g=pd.read_csv(\"/Users/nikhilkishore/Google Drive/Argo/StreetCondition/ACS_14_5YR_DP03/ACS_14_5YR_B19301/ACS_14_5YR_B19301_with_ann.csv\")"
   ]
  },
  {
   "cell_type": "code",
   "execution_count": 223,
   "metadata": {
    "collapsed": false
   },
   "outputs": [
    {
     "data": {
      "text/plain": [
       "Index([u'GEO.id', u'GEO.id2', u'GEO.display-label', u'HD01_VD01',\n",
       "       u'HD02_VD01'],\n",
       "      dtype='object')"
      ]
     },
     "execution_count": 223,
     "metadata": {},
     "output_type": "execute_result"
    }
   ],
   "source": [
    "g.columns"
   ]
  },
  {
   "cell_type": "code",
   "execution_count": 224,
   "metadata": {
    "collapsed": false,
    "scrolled": true
   },
   "outputs": [],
   "source": [
    "g=g.drop(0,0)"
   ]
  },
  {
   "cell_type": "code",
   "execution_count": 225,
   "metadata": {
    "collapsed": false
   },
   "outputs": [],
   "source": [
    "## Finterig newyork state data for nyc\n",
    "q=g[g['GEO.display-label'].apply(lambda x:x.split(',')[1])==' Queens County']\n",
    "m= g[g['GEO.display-label'].apply(lambda x:x.split(',')[1])==' New York County']\n",
    "bx= g[g['GEO.display-label'].apply(lambda x:x.split(',')[1])==' Bronx County']\n",
    "b=g[g['GEO.display-label'].apply(lambda x:x.split(',')[1])==' Kings County']\n",
    "sl=g[g['GEO.display-label'].apply(lambda x:x.split(',')[1])==' Richmond County']"
   ]
  },
  {
   "cell_type": "code",
   "execution_count": 226,
   "metadata": {
    "collapsed": false
   },
   "outputs": [],
   "source": [
    "#Income is per capita income data for new york city\n",
    "nyc=[q,m,bx,b,sl]\n",
    "income=pd.concat(nyc)"
   ]
  },
  {
   "cell_type": "code",
   "execution_count": 227,
   "metadata": {
    "collapsed": false
   },
   "outputs": [],
   "source": [
    "#Adjusting column named for merge with complaint data set\n",
    "income.columns=[u'GEO.id', u'BoroCT2010', u'GEO.display-label', u'Income',\n",
    "       u'Income_Error']"
   ]
  },
  {
   "cell_type": "code",
   "execution_count": 228,
   "metadata": {
    "collapsed": false
   },
   "outputs": [
    {
     "data": {
      "text/html": [
       "<div>\n",
       "<table border=\"1\" class=\"dataframe\">\n",
       "  <thead>\n",
       "    <tr style=\"text-align: right;\">\n",
       "      <th></th>\n",
       "      <th>GEO.id</th>\n",
       "      <th>BoroCT2010</th>\n",
       "      <th>GEO.display-label</th>\n",
       "      <th>Income</th>\n",
       "      <th>Income_Error</th>\n",
       "    </tr>\n",
       "  </thead>\n",
       "  <tbody>\n",
       "    <tr>\n",
       "      <th>3130</th>\n",
       "      <td>1400000US36081000100</td>\n",
       "      <td>36081000100</td>\n",
       "      <td>Census Tract 1, Queens County, New York</td>\n",
       "      <td>82481</td>\n",
       "      <td>8325</td>\n",
       "    </tr>\n",
       "    <tr>\n",
       "      <th>3131</th>\n",
       "      <td>1400000US36081000200</td>\n",
       "      <td>36081000200</td>\n",
       "      <td>Census Tract 2, Queens County, New York</td>\n",
       "      <td>22738</td>\n",
       "      <td>2587</td>\n",
       "    </tr>\n",
       "  </tbody>\n",
       "</table>\n",
       "</div>"
      ],
      "text/plain": [
       "                    GEO.id   BoroCT2010  \\\n",
       "3130  1400000US36081000100  36081000100   \n",
       "3131  1400000US36081000200  36081000200   \n",
       "\n",
       "                            GEO.display-label Income Income_Error  \n",
       "3130  Census Tract 1, Queens County, New York  82481         8325  \n",
       "3131  Census Tract 2, Queens County, New York  22738         2587  "
      ]
     },
     "execution_count": 228,
     "metadata": {},
     "output_type": "execute_result"
    }
   ],
   "source": [
    "income.head(2)"
   ]
  },
  {
   "cell_type": "code",
   "execution_count": 229,
   "metadata": {
    "collapsed": false
   },
   "outputs": [],
   "source": [
    "income.BoroCT2010=income.BoroCT2010.astype(int)"
   ]
  },
  {
   "cell_type": "code",
   "execution_count": 232,
   "metadata": {
    "collapsed": false
   },
   "outputs": [],
   "source": [
    "new1=income.merge(geo1,on='BoroCT2010',how='right')#.shape"
   ]
  },
  {
   "cell_type": "code",
   "execution_count": 233,
   "metadata": {
    "collapsed": false
   },
   "outputs": [
    {
     "data": {
      "text/plain": [
       "(2159, 23)"
      ]
     },
     "execution_count": 233,
     "metadata": {},
     "output_type": "execute_result"
    }
   ],
   "source": [
    "new1.shape"
   ]
  },
  {
   "cell_type": "code",
   "execution_count": 234,
   "metadata": {
    "collapsed": false
   },
   "outputs": [],
   "source": [
    "## 2014 ACS estimate number of vehicles\n",
    "cars=pd.read_csv(\"/Users/nikhilkishore/Google Drive/Argo/StreetCondition/ACS_14_5YR_DP03/ACS_14_5YR_B25046/ACS_14_5YR_B25046.csv\")"
   ]
  },
  {
   "cell_type": "code",
   "execution_count": 235,
   "metadata": {
    "collapsed": false
   },
   "outputs": [],
   "source": [
    "cars.columns=[u'GEO.id', u'BoroCT2010', u'GEO.display-label', u'AggregateVehicle', u'AggError',\n",
    "       u'ownoccupied', u'ownerrer', u'renterocc', u'renterer']"
   ]
  },
  {
   "cell_type": "code",
   "execution_count": 236,
   "metadata": {
    "collapsed": false
   },
   "outputs": [],
   "source": [
    "cars=cars.drop(0,0)"
   ]
  },
  {
   "cell_type": "code",
   "execution_count": 238,
   "metadata": {
    "collapsed": false
   },
   "outputs": [
    {
     "data": {
      "text/html": [
       "<div>\n",
       "<table border=\"1\" class=\"dataframe\">\n",
       "  <thead>\n",
       "    <tr style=\"text-align: right;\">\n",
       "      <th></th>\n",
       "      <th>GEO.id</th>\n",
       "      <th>BoroCT2010</th>\n",
       "      <th>GEO.display-label</th>\n",
       "      <th>AggregateVehicle</th>\n",
       "      <th>AggError</th>\n",
       "      <th>ownoccupied</th>\n",
       "      <th>ownerrer</th>\n",
       "      <th>renterocc</th>\n",
       "      <th>renterer</th>\n",
       "    </tr>\n",
       "  </thead>\n",
       "  <tbody>\n",
       "    <tr>\n",
       "      <th>1</th>\n",
       "      <td>1400000US36005000100</td>\n",
       "      <td>36005000100</td>\n",
       "      <td>Census Tract 1, Bronx County, New York</td>\n",
       "      <td>NaN</td>\n",
       "      <td>NaN</td>\n",
       "      <td>NaN</td>\n",
       "      <td>NaN</td>\n",
       "      <td>NaN</td>\n",
       "      <td>NaN</td>\n",
       "    </tr>\n",
       "    <tr>\n",
       "      <th>2</th>\n",
       "      <td>1400000US36005000200</td>\n",
       "      <td>36005000200</td>\n",
       "      <td>Census Tract 2, Bronx County, New York</td>\n",
       "      <td>1709</td>\n",
       "      <td>198</td>\n",
       "      <td>1160</td>\n",
       "      <td>206</td>\n",
       "      <td>549</td>\n",
       "      <td>163</td>\n",
       "    </tr>\n",
       "    <tr>\n",
       "      <th>3</th>\n",
       "      <td>1400000US36005000400</td>\n",
       "      <td>36005000400</td>\n",
       "      <td>Census Tract 4, Bronx County, New York</td>\n",
       "      <td>1872</td>\n",
       "      <td>270</td>\n",
       "      <td>1599</td>\n",
       "      <td>244</td>\n",
       "      <td>273</td>\n",
       "      <td>111</td>\n",
       "    </tr>\n",
       "    <tr>\n",
       "      <th>4</th>\n",
       "      <td>1400000US36005001600</td>\n",
       "      <td>36005001600</td>\n",
       "      <td>Census Tract 16, Bronx County, New York</td>\n",
       "      <td>1294</td>\n",
       "      <td>277</td>\n",
       "      <td>560</td>\n",
       "      <td>271</td>\n",
       "      <td>734</td>\n",
       "      <td>168</td>\n",
       "    </tr>\n",
       "    <tr>\n",
       "      <th>5</th>\n",
       "      <td>1400000US36005001900</td>\n",
       "      <td>36005001900</td>\n",
       "      <td>Census Tract 19, Bronx County, New York</td>\n",
       "      <td>354</td>\n",
       "      <td>84</td>\n",
       "      <td>37</td>\n",
       "      <td>24</td>\n",
       "      <td>317</td>\n",
       "      <td>83</td>\n",
       "    </tr>\n",
       "    <tr>\n",
       "      <th>6</th>\n",
       "      <td>1400000US36005002000</td>\n",
       "      <td>36005002000</td>\n",
       "      <td>Census Tract 20, Bronx County, New York</td>\n",
       "      <td>1294</td>\n",
       "      <td>332</td>\n",
       "      <td>602</td>\n",
       "      <td>206</td>\n",
       "      <td>692</td>\n",
       "      <td>261</td>\n",
       "    </tr>\n",
       "    <tr>\n",
       "      <th>7</th>\n",
       "      <td>1400000US36005002400</td>\n",
       "      <td>36005002400</td>\n",
       "      <td>Census Tract 24, Bronx County, New York</td>\n",
       "      <td>NaN</td>\n",
       "      <td>NaN</td>\n",
       "      <td>NaN</td>\n",
       "      <td>NaN</td>\n",
       "      <td>NaN</td>\n",
       "      <td>NaN</td>\n",
       "    </tr>\n",
       "    <tr>\n",
       "      <th>8</th>\n",
       "      <td>1400000US36005002500</td>\n",
       "      <td>36005002500</td>\n",
       "      <td>Census Tract 25, Bronx County, New York</td>\n",
       "      <td>556</td>\n",
       "      <td>135</td>\n",
       "      <td>32</td>\n",
       "      <td>44</td>\n",
       "      <td>524</td>\n",
       "      <td>136</td>\n",
       "    </tr>\n",
       "    <tr>\n",
       "      <th>9</th>\n",
       "      <td>1400000US36005002701</td>\n",
       "      <td>36005002701</td>\n",
       "      <td>Census Tract 27.01, Bronx County, New York</td>\n",
       "      <td>297</td>\n",
       "      <td>119</td>\n",
       "      <td>NaN</td>\n",
       "      <td>NaN</td>\n",
       "      <td>297</td>\n",
       "      <td>119</td>\n",
       "    </tr>\n",
       "    <tr>\n",
       "      <th>10</th>\n",
       "      <td>1400000US36005002800</td>\n",
       "      <td>36005002800</td>\n",
       "      <td>Census Tract 28, Bronx County, New York</td>\n",
       "      <td>1800</td>\n",
       "      <td>320</td>\n",
       "      <td>256</td>\n",
       "      <td>112</td>\n",
       "      <td>1544</td>\n",
       "      <td>321</td>\n",
       "    </tr>\n",
       "  </tbody>\n",
       "</table>\n",
       "</div>"
      ],
      "text/plain": [
       "                  GEO.id   BoroCT2010  \\\n",
       "1   1400000US36005000100  36005000100   \n",
       "2   1400000US36005000200  36005000200   \n",
       "3   1400000US36005000400  36005000400   \n",
       "4   1400000US36005001600  36005001600   \n",
       "5   1400000US36005001900  36005001900   \n",
       "6   1400000US36005002000  36005002000   \n",
       "7   1400000US36005002400  36005002400   \n",
       "8   1400000US36005002500  36005002500   \n",
       "9   1400000US36005002701  36005002701   \n",
       "10  1400000US36005002800  36005002800   \n",
       "\n",
       "                             GEO.display-label AggregateVehicle AggError  \\\n",
       "1       Census Tract 1, Bronx County, New York              NaN      NaN   \n",
       "2       Census Tract 2, Bronx County, New York             1709      198   \n",
       "3       Census Tract 4, Bronx County, New York             1872      270   \n",
       "4      Census Tract 16, Bronx County, New York             1294      277   \n",
       "5      Census Tract 19, Bronx County, New York              354       84   \n",
       "6      Census Tract 20, Bronx County, New York             1294      332   \n",
       "7      Census Tract 24, Bronx County, New York              NaN      NaN   \n",
       "8      Census Tract 25, Bronx County, New York              556      135   \n",
       "9   Census Tract 27.01, Bronx County, New York              297      119   \n",
       "10     Census Tract 28, Bronx County, New York             1800      320   \n",
       "\n",
       "   ownoccupied ownerrer renterocc renterer  \n",
       "1          NaN      NaN       NaN      NaN  \n",
       "2         1160      206       549      163  \n",
       "3         1599      244       273      111  \n",
       "4          560      271       734      168  \n",
       "5           37       24       317       83  \n",
       "6          602      206       692      261  \n",
       "7          NaN      NaN       NaN      NaN  \n",
       "8           32       44       524      136  \n",
       "9          NaN      NaN       297      119  \n",
       "10         256      112      1544      321  "
      ]
     },
     "execution_count": 238,
     "metadata": {},
     "output_type": "execute_result"
    }
   ],
   "source": [
    "cars.head(10)"
   ]
  },
  {
   "cell_type": "code",
   "execution_count": 239,
   "metadata": {
    "collapsed": true
   },
   "outputs": [],
   "source": [
    "cars.BoroCT2010= cars.BoroCT2010.astype(int)"
   ]
  },
  {
   "cell_type": "code",
   "execution_count": 240,
   "metadata": {
    "collapsed": false
   },
   "outputs": [],
   "source": [
    "new2=new1.merge(cars,on='BoroCT2010',how='left')"
   ]
  },
  {
   "cell_type": "code",
   "execution_count": 241,
   "metadata": {
    "collapsed": false,
    "scrolled": false
   },
   "outputs": [
    {
     "data": {
      "text/html": [
       "<div>\n",
       "<table border=\"1\" class=\"dataframe\">\n",
       "  <thead>\n",
       "    <tr style=\"text-align: right;\">\n",
       "      <th></th>\n",
       "      <th>GEO.id_x</th>\n",
       "      <th>BoroCT2010</th>\n",
       "      <th>GEO.display-label_x</th>\n",
       "      <th>Income</th>\n",
       "      <th>Income_Error</th>\n",
       "      <th>2005</th>\n",
       "      <th>2006</th>\n",
       "      <th>2007</th>\n",
       "      <th>2008</th>\n",
       "      <th>2009</th>\n",
       "      <th>...</th>\n",
       "      <th>geometry</th>\n",
       "      <th>Total</th>\n",
       "      <th>GEO.id_y</th>\n",
       "      <th>GEO.display-label_y</th>\n",
       "      <th>AggregateVehicle</th>\n",
       "      <th>AggError</th>\n",
       "      <th>ownoccupied</th>\n",
       "      <th>ownerrer</th>\n",
       "      <th>renterocc</th>\n",
       "      <th>renterer</th>\n",
       "    </tr>\n",
       "  </thead>\n",
       "  <tbody>\n",
       "    <tr>\n",
       "      <th>0</th>\n",
       "      <td>1400000US36081000100</td>\n",
       "      <td>36081000100</td>\n",
       "      <td>Census Tract 1, Queens County, New York</td>\n",
       "      <td>82481</td>\n",
       "      <td>8325</td>\n",
       "      <td>79</td>\n",
       "      <td>56</td>\n",
       "      <td>78</td>\n",
       "      <td>48</td>\n",
       "      <td>65</td>\n",
       "      <td>...</td>\n",
       "      <td>POLYGON ((-73.94911295133423 40.75452361982124...</td>\n",
       "      <td>623</td>\n",
       "      <td>1400000US36081000100</td>\n",
       "      <td>Census Tract 1, Queens County, New York</td>\n",
       "      <td>1525</td>\n",
       "      <td>236</td>\n",
       "      <td>401</td>\n",
       "      <td>132</td>\n",
       "      <td>1124</td>\n",
       "      <td>196</td>\n",
       "    </tr>\n",
       "    <tr>\n",
       "      <th>1</th>\n",
       "      <td>1400000US36081000200</td>\n",
       "      <td>36081000200</td>\n",
       "      <td>Census Tract 2, Queens County, New York</td>\n",
       "      <td>22738</td>\n",
       "      <td>2587</td>\n",
       "      <td>3</td>\n",
       "      <td>14</td>\n",
       "      <td>14</td>\n",
       "      <td>10</td>\n",
       "      <td>23</td>\n",
       "      <td>...</td>\n",
       "      <td>POLYGON ((-73.8633121516451 40.69196169451116,...</td>\n",
       "      <td>114</td>\n",
       "      <td>1400000US36081000200</td>\n",
       "      <td>Census Tract 2, Queens County, New York</td>\n",
       "      <td>929</td>\n",
       "      <td>159</td>\n",
       "      <td>547</td>\n",
       "      <td>114</td>\n",
       "      <td>382</td>\n",
       "      <td>142</td>\n",
       "    </tr>\n",
       "  </tbody>\n",
       "</table>\n",
       "<p>2 rows × 31 columns</p>\n",
       "</div>"
      ],
      "text/plain": [
       "               GEO.id_x   BoroCT2010                      GEO.display-label_x  \\\n",
       "0  1400000US36081000100  36081000100  Census Tract 1, Queens County, New York   \n",
       "1  1400000US36081000200  36081000200  Census Tract 2, Queens County, New York   \n",
       "\n",
       "  Income Income_Error  2005  2006  2007  2008  2009   ...     \\\n",
       "0  82481         8325    79    56    78    48    65   ...      \n",
       "1  22738         2587     3    14    14    10    23   ...      \n",
       "\n",
       "                                            geometry  Total  \\\n",
       "0  POLYGON ((-73.94911295133423 40.75452361982124...    623   \n",
       "1  POLYGON ((-73.8633121516451 40.69196169451116,...    114   \n",
       "\n",
       "               GEO.id_y                      GEO.display-label_y  \\\n",
       "0  1400000US36081000100  Census Tract 1, Queens County, New York   \n",
       "1  1400000US36081000200  Census Tract 2, Queens County, New York   \n",
       "\n",
       "   AggregateVehicle  AggError  ownoccupied  ownerrer renterocc renterer  \n",
       "0              1525       236          401       132      1124      196  \n",
       "1               929       159          547       114       382      142  \n",
       "\n",
       "[2 rows x 31 columns]"
      ]
     },
     "execution_count": 241,
     "metadata": {},
     "output_type": "execute_result"
    }
   ],
   "source": [
    "#Final Dataset with income, car and street complaint information.\n",
    "new2.head(2)\n",
    "#new2[['GEO.display-label_x','GEO.display-label_y']]"
   ]
  },
  {
   "cell_type": "code",
   "execution_count": 242,
   "metadata": {
    "collapsed": false
   },
   "outputs": [
    {
     "data": {
      "text/plain": [
       "(2159, 23)"
      ]
     },
     "execution_count": 242,
     "metadata": {},
     "output_type": "execute_result"
    }
   ],
   "source": [
    "new1.shape"
   ]
  },
  {
   "cell_type": "code",
   "execution_count": 243,
   "metadata": {
    "collapsed": false
   },
   "outputs": [],
   "source": [
    "new2=new2.drop(['GEO.display-label_y','GEO.id_y'],1)"
   ]
  },
  {
   "cell_type": "code",
   "execution_count": 244,
   "metadata": {
    "collapsed": false
   },
   "outputs": [],
   "source": [
    "new2.columns=[u'GEO.id', u'BoroCT2010', u'GEO.display-label',\n",
    "                    u'Income',        u'Income_Error',                   2005,\n",
    "                         2006,                   2007,                   2008,\n",
    "                         2009,                   2010,                   2011,\n",
    "                         2012,                   2013,                   2014,\n",
    "                         2015,                   2016,               u'GeoID',\n",
    "                  u'BoroName',             u'NTAName',                u'PUMA',\n",
    "                  u'geometry',               u'Total',    u'AggregateVehicle',\n",
    "                  u'AggError',         u'ownoccupied',            u'ownerrer',\n",
    "                 u'renterocc',            u'renterer']"
   ]
  },
  {
   "cell_type": "code",
   "execution_count": 245,
   "metadata": {
    "collapsed": false
   },
   "outputs": [
    {
     "data": {
      "text/plain": [
       "Index([           u'GEO.id',        u'BoroCT2010', u'GEO.display-label',\n",
       "                  u'Income',      u'Income_Error',                 2005,\n",
       "                       2006,                 2007,                 2008,\n",
       "                       2009,                 2010,                 2011,\n",
       "                       2012,                 2013,                 2014,\n",
       "                       2015,                 2016,             u'GeoID',\n",
       "                u'BoroName',           u'NTAName',              u'PUMA',\n",
       "                u'geometry',             u'Total',  u'AggregateVehicle',\n",
       "                u'AggError',       u'ownoccupied',          u'ownerrer',\n",
       "               u'renterocc',          u'renterer'],\n",
       "      dtype='object')"
      ]
     },
     "execution_count": 245,
     "metadata": {},
     "output_type": "execute_result"
    }
   ],
   "source": [
    "new2.columns"
   ]
  },
  {
   "cell_type": "code",
   "execution_count": 246,
   "metadata": {
    "collapsed": false
   },
   "outputs": [],
   "source": [
    "new2['AggregateVehicle']=new2['AggregateVehicle'].astype(float)"
   ]
  },
  {
   "cell_type": "code",
   "execution_count": 247,
   "metadata": {
    "collapsed": false
   },
   "outputs": [],
   "source": [
    "from scipy.stats import rankdata"
   ]
  },
  {
   "cell_type": "code",
   "execution_count": 248,
   "metadata": {
    "collapsed": false
   },
   "outputs": [],
   "source": [
    "#converting income to int\n",
    "def conint(x):\n",
    "    try:\n",
    "        return int(x)\n",
    "    except ValueError:\n",
    "        pass\n",
    "new2['Income']=new2['Income'].apply(conint)#.astype(float)"
   ]
  },
  {
   "cell_type": "code",
   "execution_count": 249,
   "metadata": {
    "collapsed": false
   },
   "outputs": [],
   "source": [
    "#Filling na with 0\n",
    "new3=new2.fillna(0)"
   ]
  },
  {
   "cell_type": "code",
   "execution_count": 250,
   "metadata": {
    "collapsed": false
   },
   "outputs": [],
   "source": [
    "##Rankinh vehicles,income,and total complaints.\n",
    "new3['rveh']=rankdata(new3['AggregateVehicle'])\n",
    "new3['rincome'] =rankdata(new3['Income'].astype(float))\n",
    "for i in range(2005,2017):\n",
    "    new3['rstreet'+str(i)]=rankdata(new3[i].astype(float))\n",
    "new3['rstreet']=rankdata(new3['Total'].astype(float))\n",
    "\n"
   ]
  },
  {
   "cell_type": "code",
   "execution_count": 251,
   "metadata": {
    "collapsed": false
   },
   "outputs": [],
   "source": [
    "## Final File has geometry of census tract, street complaints year wise and total, Income per capita for 2014 and\n",
    "##total car estimate for 2014 \n",
    "new3.to_csv(\"proto3.csv\")\n",
    "\n",
    "##Next file is coverted to geojson using qGIS and used as an input to web visualization"
   ]
  },
  {
   "cell_type": "code",
   "execution_count": null,
   "metadata": {
    "collapsed": true
   },
   "outputs": [],
   "source": []
  }
 ],
 "metadata": {
  "kernelspec": {
   "display_name": "Python 2",
   "language": "python",
   "name": "python2"
  },
  "language_info": {
   "codemirror_mode": {
    "name": "ipython",
    "version": 2
   },
   "file_extension": ".py",
   "mimetype": "text/x-python",
   "name": "python",
   "nbconvert_exporter": "python",
   "pygments_lexer": "ipython2",
   "version": "2.7.12"
  }
 },
 "nbformat": 4,
 "nbformat_minor": 0
}
