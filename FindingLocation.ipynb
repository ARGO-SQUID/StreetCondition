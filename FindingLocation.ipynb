{
 "cells": [
  {
   "cell_type": "markdown",
   "metadata": {},
   "source": [
    "# Step 1\n",
    "# This code is written to find all the locations with no geo-coordinate information.\n",
    "# Code uses SODA consumer API to find the locations."
   ]
  },
  {
   "cell_type": "code",
   "execution_count": 1,
   "metadata": {
    "collapsed": false
   },
   "outputs": [
    {
     "name": "stdout",
     "output_type": "stream",
     "text": [
      "Populating the interactive namespace from numpy and matplotlib\n"
     ]
    }
   ],
   "source": [
    "import pandas as pd\n",
    "import numpy as np\n",
    "#import Psycopg\n",
    "% pylab inline"
   ]
  },
  {
   "cell_type": "code",
   "execution_count": 16,
   "metadata": {
    "collapsed": true
   },
   "outputs": [],
   "source": [
    "##Reading 311 Data from 2005 to 2015 where complaint type is equal to street condition\n",
    "twok5='https://data.cityofnewyork.us/resource/xk2u-49gx.json?$where=complaint_type=%27Street%20Condition%27%20and%20longitude%20is%20null'\n",
    "twok6='https://data.cityofnewyork.us/resource/txvy-sgqz.json?$where=complaint_type=%27Street%20Condition%27%20and%20longitude%20is%20null'\n",
    "twok7='https://data.cityofnewyork.us/resource/bjsb-smxa.json?$where=complaint_type=%27Street%20Condition%27%20and%20longitude%20is%20null'\n",
    "twok8='https://data.cityofnewyork.us/resource/ttef-akmb.json?$where=complaint_type=%27Street%20Condition%27%20and%20longitude%20is%20null'\n",
    "twok9='https://data.cityofnewyork.us/resource/76rq-desm.json?$where=complaint_type=%27Street%20Condition%27%20and%20longitude%20is%20null'\n",
    "y1016='https://data.cityofnewyork.us/resource/fhrw-4uyv.json?$where=complaint_type=%27Street%20Condition%27%20and%20longitude%20is%20null'"
   ]
  },
  {
   "cell_type": "code",
   "execution_count": 17,
   "metadata": {
    "collapsed": true
   },
   "outputs": [],
   "source": [
    "#Creating Array of data\n",
    "streetdata = [twok5,twok6,twok7,twok8,twok9,y1016]"
   ]
  },
  {
   "cell_type": "code",
   "execution_count": 18,
   "metadata": {
    "collapsed": false
   },
   "outputs": [],
   "source": [
    "##Function taking array of SODA API links and returning a csv file for each link \n",
    "def scraper(readdata):\n",
    "    year=5 \n",
    "    for i in readdata:\n",
    "        data=pd.read_json(i)\n",
    "        data.to_csv('UnknownLocation/street'+str(year)+'.csv')\n",
    "        year+=1"
   ]
  },
  {
   "cell_type": "code",
   "execution_count": 20,
   "metadata": {
    "collapsed": true
   },
   "outputs": [],
   "source": [
    "##Run Function \n",
    "scraper([streetdata])"
   ]
  },
  {
   "cell_type": "code",
   "execution_count": 36,
   "metadata": {
    "collapsed": false
   },
   "outputs": [],
   "source": [
    "## Checking if this file contains service requests from 2010 to 2016\n",
    "test = pd.read_json(y1016)"
   ]
  },
  {
   "cell_type": "code",
   "execution_count": 11,
   "metadata": {
    "collapsed": false
   },
   "outputs": [],
   "source": [
    "import datetime"
   ]
  },
  {
   "cell_type": "code",
   "execution_count": 16,
   "metadata": {
    "collapsed": false
   },
   "outputs": [],
   "source": [
    "test['created_date']=pd.to_datetime(test['created_date'])"
   ]
  },
  {
   "cell_type": "code",
   "execution_count": 24,
   "metadata": {
    "collapsed": false
   },
   "outputs": [
    {
     "data": {
      "text/plain": [
       "<matplotlib.text.Text at 0x10ec56950>"
      ]
     },
     "execution_count": 24,
     "metadata": {},
     "output_type": "execute_result"
    },
    {
     "data": {
      "image/png": "[encoded data removed]",
      "text/plain": [
       "<matplotlib.figure.Figure at 0x11db14150>"
      ]
     },
     "metadata": {},
     "output_type": "display_data"
    }
   ],
   "source": [
    "# just checking is json file with data from 2010 to 2016 contains information for all the years.\n",
    "plt.figure(figsize=(12,12))\n",
    "test['created_date'].hist()\n",
    "plt.legend(['Number of Complaints'])\n",
    "plt.title('Frequency Chart of Street Related Complaints with no Location Information')"
   ]
  },
  {
   "cell_type": "code",
   "execution_count": 30,
   "metadata": {
    "collapsed": false
   },
   "outputs": [],
   "source": [
    "## Saving the file in form of json as there are encoding issues for saving in csv. If you insist\n",
    "## on saving in csv use the code below\n",
    "\n",
    "##dtest.to_csv('street10to16.csv', header=True, index=False, encoding='utf-8')\n",
    "\n",
    "#otherwise\n",
    "\n",
    "test.to_json('street10to16.json')\n"
   ]
  },
  {
   "cell_type": "code",
   "execution_count": null,
   "metadata": {
    "collapsed": true
   },
   "outputs": [],
   "source": []
  }
 ],
 "metadata": {
  "kernelspec": {
   "display_name": "Python 2",
   "language": "python",
   "name": "python2"
  },
  "language_info": {
   "codemirror_mode": {
    "name": "ipython",
    "version": 2
   },
   "file_extension": ".py",
   "mimetype": "text/x-python",
   "name": "python",
   "nbconvert_exporter": "python",
   "pygments_lexer": "ipython2",
   "version": "2.7.12"
  }
 },
 "nbformat": 4,
 "nbformat_minor": 0
}
